{
 "cells": [
  {
   "cell_type": "code",
   "execution_count": 12,
   "metadata": {},
   "outputs": [],
   "source": [
    "import pandas as pd\n",
    "import numpy as np\n",
    "import requests\n",
    "import ast\n",
    "from bs4 import BeautifulSoup\n",
    "from time import sleep\n",
    "from random import randint\n",
    "\n",
    "actor_name = []\n",
    "movie_name = []\n",
    "movie_list = []\n",
    "\n"
   ]
  },
  {
   "cell_type": "code",
   "execution_count": 15,
   "metadata": {},
   "outputs": [],
   "source": [
    "def checkpages():\n",
    "    pages = np.arange(1,11,1)\n",
    "    for page in pages:\n",
    "        page = requests.get(\"https://www.imdb.com/list/ls058011111/?sort=list_order,asc&mode=detail&page=\"+str(page))\n",
    "        soup = BeautifulSoup(page.text,'html.parser')\n",
    "        actor_data = soup.findAll('div',attrs ={'class':'lister-item mode-detail'} )\n",
    "        sleep(randint(2,8))\n",
    "        for store in actor_data:\n",
    "            name = store.h3.a.text\n",
    "            name = name.rstrip(\"\\n\")\n",
    "            actor_name.append(name)\n",
    "    #print(actor_name)\n",
    "        for store in actor_data:\n",
    "            link_url = store.find_all(\"a\")[1][\"href\"]\n",
    "#     print(f\"Apply here: {link_url}\\n\")\n",
    "            a = str(\"https://www.imdb.com\")+link_url+str(\"?ref_=nmls_kf\")\n",
    "            movie_name.append(a)\n",
    "    #print(movie_name)\n",
    "    \n",
    "        data_combined = dict(zip(actor_name,movie_name))\n",
    "        movie_data = str(data_combined)\n",
    "        m_data = ast.literal_eval(movie_data)\n",
    "    return m_data"
   ]
  },
  {
   "cell_type": "code",
   "execution_count": 21,
   "metadata": {},
   "outputs": [],
   "source": [
    "#check the actor name and print all his movies\n",
    "def checkKey(dict, key):\n",
    "    #movie_list.clear()\n",
    "      \n",
    "    if key in dict:\n",
    "#         print(\"Present, \", end =\" \")\n",
    "#         print(\"value =\", dict[key])\n",
    "        movie_link = dict[key]\n",
    "        n = str(movie_link)\n",
    "        \n",
    "      #  new_link = requests.get(str(movie_link))\n",
    "#         soup1 = BeautifulSoup(new_link.text,\"html.parser\")\n",
    "#         new_link = soup.findAll(\"div\",attrs={'class':'filmo-category-section'})\n",
    "#         for st in new_link:\n",
    "#             mov = st.b.a.text\n",
    "#             movie_list.append(mov)\n",
    "#         print(movie_list)\n",
    "        movie_data_1 =requests.get(str(movie_link)) #requests.get(\"https://www.imdb.com/name/nm0000313/?ref_=nmls_hd\")\n",
    "        soup1 = BeautifulSoup(movie_data_1.text,\"html.parser\")\n",
    "        movie_data_1 = soup1.findAll('div',attrs={'class':['filmo-row odd','filmo-row even']})\n",
    "        #sleep(randint(2,8))\n",
    "        for store_1 in movie_data_1:\n",
    "            name_1 = store_1.b.a.text\n",
    "            name_1 = name_1.rstrip(\"\\n\")\n",
    "            movie_list.append(name_1)\n",
    "        print(movie_list)\n",
    "  \n",
    "        #print actor name and movie name in the page\n",
    "\n",
    "        #soup = BeautifulSoup(actor_data.text,\"html.parser\")\n",
    "    else:\n",
    "        print(\"Actor not present in the list\")"
   ]
  },
  {
   "cell_type": "code",
   "execution_count": 19,
   "metadata": {},
   "outputs": [],
   "source": [
    "data_movies =checkpages()"
   ]
  },
  {
   "cell_type": "code",
   "execution_count": 25,
   "metadata": {},
   "outputs": [
    {
     "name": "stdout",
     "output_type": "stream",
     "text": [
      "Enter your actor name : sung kangh\n",
      "Not present\n"
     ]
    }
   ],
   "source": [
    "movie_list =[]\n",
    "act_name = input(\"Enter your actor name : \").title()\n",
    "act_name1= \" \"+act_name\n",
    "checkKey(data_movies,act_name1)"
   ]
  },
  {
   "cell_type": "code",
   "execution_count": null,
   "metadata": {},
   "outputs": [],
   "source": []
  }
 ],
 "metadata": {
  "kernelspec": {
   "display_name": "Python 3",
   "language": "python",
   "name": "python3"
  },
  "language_info": {
   "codemirror_mode": {
    "name": "ipython",
    "version": 3
   },
   "file_extension": ".py",
   "mimetype": "text/x-python",
   "name": "python",
   "nbconvert_exporter": "python",
   "pygments_lexer": "ipython3",
   "version": "3.7.6"
  }
 },
 "nbformat": 4,
 "nbformat_minor": 4
}
